{
  "nbformat": 4,
  "nbformat_minor": 0,
  "metadata": {
    "colab": {
      "provenance": [],
      "authorship_tag": "ABX9TyOXs6w3recnSANSSGgIzwvn",
      "include_colab_link": true
    },
    "kernelspec": {
      "name": "python3",
      "display_name": "Python 3"
    },
    "language_info": {
      "name": "python"
    }
  },
  "cells": [
    {
      "cell_type": "markdown",
      "metadata": {
        "id": "view-in-github",
        "colab_type": "text"
      },
      "source": [
        "<a href=\"https://colab.research.google.com/github/LokeshGouri/GenAI_Course/blob/main/Python_excercise.ipynb\" target=\"_parent\"><img src=\"https://colab.research.google.com/assets/colab-badge.svg\" alt=\"Open In Colab\"/></a>"
      ]
    },
    {
      "cell_type": "code",
      "execution_count": null,
      "metadata": {
        "colab": {
          "base_uri": "https://localhost:8080/"
        },
        "id": "Q17ysvYIr0dn",
        "outputId": "6d7e1388-6b32-4600-bed4-309672649dae"
      },
      "outputs": [
        {
          "output_type": "stream",
          "name": "stdout",
          "text": [
            "[0, 1, 1, 2, 3, 5, 8, 13]\n"
          ]
        }
      ],
      "source": [
        "from functools import reduce\n",
        "# 0,1,1,2,3,5,8,13\n",
        "fib = lambda n: reduce(lambda x, _ : x + [x[-1]+x[-2]], range(n-2), [0,1])\n",
        "\n",
        "print(fib(8))"
      ]
    },
    {
      "cell_type": "code",
      "source": [
        "import random;\n",
        "class flashcard:\n",
        "\n",
        "  fruitDict = {};\n",
        "\n",
        "  def __init__(self):\n",
        "    self.fruitDict = {\n",
        "        \"banana\" : \"yellow\",\n",
        "        \"orange\" : \"orange\",\n",
        "        \"apple\" : \"red\",\n",
        "        \"grapes\" : \"green\"\n",
        "    };\n",
        "\n",
        "  def prompt(self):\n",
        "    while(True):\n",
        "      fruit = random.choice(list(self.fruitDict.keys()));\n",
        "      color = self.fruitDict[fruit];\n",
        "      print(f\"Tell me the color of the fruit: {fruit}\");\n",
        "      userInput = input();\n",
        "      if(userInput == color):\n",
        "        print(\"correct\")\n",
        "      else:\n",
        "        print(\"wrong\")\n",
        "      print(\"press 1 to continue\");\n",
        "      if(input() != \"1\"):\n",
        "        break\n",
        "\n",
        "\n",
        "f = flashcard();\n",
        "f.prompt();"
      ],
      "metadata": {
        "colab": {
          "base_uri": "https://localhost:8080/"
        },
        "id": "SxNrKua-zudP",
        "outputId": "38cffe48-eeb3-4e8c-f3d2-0a814045a146"
      },
      "execution_count": null,
      "outputs": [
        {
          "name": "stdout",
          "output_type": "stream",
          "text": [
            "Tell me the color of the fruit: banana\n",
            "yellow\n",
            "correct\n",
            "press 1 to continue\n",
            "1\n",
            "Tell me the color of the fruit: grapes\n",
            "green\n",
            "correct\n",
            "press 1 to continue\n",
            "3\n"
          ]
        }
      ]
    },
    {
      "cell_type": "code",
      "source": [
        "def findSum():\n",
        "  tempDict = {\"a\":100,\"b\":200,\"c\":300};\n",
        "  sumOfDict = sum(tempDict.values())\n",
        "  print(sumOfDict)\n",
        "\n",
        "findSum();"
      ],
      "metadata": {
        "colab": {
          "base_uri": "https://localhost:8080/"
        },
        "id": "MxA1V3B__LWV",
        "outputId": "10120563-f05c-4f85-db5a-0f31a18ad9f7"
      },
      "execution_count": null,
      "outputs": [
        {
          "output_type": "stream",
          "name": "stdout",
          "text": [
            "600\n"
          ]
        }
      ]
    },
    {
      "cell_type": "code",
      "source": [
        "#variable length or args\n",
        "def multiply(**kwargs):\n",
        "  print(kwargs)\n",
        "  result = reduce(lambda x,y: x*y, kwargs.values())\n",
        "  print(result)\n",
        "\n",
        "multiply(a=1,b=2,c=4)"
      ],
      "metadata": {
        "colab": {
          "base_uri": "https://localhost:8080/"
        },
        "id": "vECxVIVvABLM",
        "outputId": "0cfd326f-736f-41ee-f3f2-d8f2f133b7bc"
      },
      "execution_count": null,
      "outputs": [
        {
          "output_type": "stream",
          "name": "stdout",
          "text": [
            "{'a': 1, 'b': 2, 'c': 4}\n",
            "8\n"
          ]
        }
      ]
    },
    {
      "cell_type": "code",
      "source": [
        "#Bag Of words\n",
        "sentences = [ \"the quick brown fox jumps over the brown dog\", \"the dog barks loudly\", \"the cat sleeps peacefully\" ];\n",
        "uniqueTokens = [];\n",
        "for sentence in sentences:\n",
        "  tokens = sentence.split();\n",
        "  for token in tokens:\n",
        "    if token not in uniqueTokens:\n",
        "      uniqueTokens.append(token);\n",
        "print(uniqueTokens)\n",
        "\n",
        "for sentence in sentences:\n",
        "  vector = [];\n",
        "  for token in uniqueTokens:\n",
        "    vector.append(sentence.count(token))\n",
        "  print(vector)\n",
        "\n"
      ],
      "metadata": {
        "colab": {
          "base_uri": "https://localhost:8080/"
        },
        "id": "_s0dWZYZHUaf",
        "outputId": "3219f000-5d1a-42ce-c5c0-97fa39a56fe9"
      },
      "execution_count": null,
      "outputs": [
        {
          "output_type": "stream",
          "name": "stdout",
          "text": [
            "['the', 'quick', 'brown', 'fox', 'jumps', 'over', 'dog', 'barks', 'loudly', 'cat', 'sleeps', 'peacefully']\n",
            "[2, 1, 2, 1, 1, 1, 1, 0, 0, 0, 0, 0]\n",
            "[1, 0, 0, 0, 0, 0, 1, 1, 1, 0, 0, 0]\n",
            "[1, 0, 0, 0, 0, 0, 0, 0, 0, 1, 1, 1]\n"
          ]
        }
      ]
    }
  ]
}