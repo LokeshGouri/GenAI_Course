{
  "nbformat": 4,
  "nbformat_minor": 0,
  "metadata": {
    "colab": {
      "provenance": [],
      "authorship_tag": "ABX9TyP+xhISMMt5F6oqa/v6IGdu",
      "include_colab_link": true
    },
    "kernelspec": {
      "name": "python3",
      "display_name": "Python 3"
    },
    "language_info": {
      "name": "python"
    }
  },
  "cells": [
    {
      "cell_type": "markdown",
      "metadata": {
        "id": "view-in-github",
        "colab_type": "text"
      },
      "source": [
        "<a href=\"https://colab.research.google.com/github/LokeshGouri/GenAI_Course/blob/main/Python_excercise.ipynb\" target=\"_parent\"><img src=\"https://colab.research.google.com/assets/colab-badge.svg\" alt=\"Open In Colab\"/></a>"
      ]
    },
    {
      "cell_type": "code",
      "execution_count": 9,
      "metadata": {
        "colab": {
          "base_uri": "https://localhost:8080/"
        },
        "id": "Q17ysvYIr0dn",
        "outputId": "6d7e1388-6b32-4600-bed4-309672649dae"
      },
      "outputs": [
        {
          "output_type": "stream",
          "name": "stdout",
          "text": [
            "[0, 1, 1, 2, 3, 5, 8, 13]\n"
          ]
        }
      ],
      "source": [
        "from functools import reduce\n",
        "# 0,1,1,2,3,5,8,13\n",
        "fib = lambda n: reduce(lambda x, _ : x + [x[-1]+x[-2]], range(n-2), [0,1])\n",
        "\n",
        "print(fib(8))"
      ]
    },
    {
      "cell_type": "code",
      "source": [
        "import random;\n",
        "class flashcard:\n",
        "\n",
        "  fruitDict = {};\n",
        "\n",
        "  def __init__(self):\n",
        "    self.fruitDict = {\n",
        "        \"banana\" : \"yellow\",\n",
        "        \"orange\" : \"orange\",\n",
        "        \"apple\" : \"red\",\n",
        "        \"grapes\" : \"green\"\n",
        "    };\n",
        "\n",
        "  def prompt(self):\n",
        "    while(True):\n",
        "      fruit = random.choice(list(self.fruitDict.keys()));\n",
        "      color = self.fruitDict[fruit];\n",
        "      print(f\"Tell me the color of the fruit: {fruit}\");\n",
        "      userInput = input();\n",
        "      if(userInput == color):\n",
        "        print(\"correct\")\n",
        "      else:\n",
        "        print(\"wrong\")\n",
        "      print(\"press 1 to continue\");\n",
        "      if(input() != \"1\"):\n",
        "        break\n",
        "\n",
        "\n",
        "f = flashcard();\n",
        "f.prompt();"
      ],
      "metadata": {
        "colab": {
          "base_uri": "https://localhost:8080/"
        },
        "id": "SxNrKua-zudP",
        "outputId": "38cffe48-eeb3-4e8c-f3d2-0a814045a146"
      },
      "execution_count": 28,
      "outputs": [
        {
          "name": "stdout",
          "output_type": "stream",
          "text": [
            "Tell me the color of the fruit: banana\n",
            "yellow\n",
            "correct\n",
            "press 1 to continue\n",
            "1\n",
            "Tell me the color of the fruit: grapes\n",
            "green\n",
            "correct\n",
            "press 1 to continue\n",
            "3\n"
          ]
        }
      ]
    }
  ]
}