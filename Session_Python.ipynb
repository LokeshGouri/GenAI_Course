{
  "nbformat": 4,
  "nbformat_minor": 0,
  "metadata": {
    "colab": {
      "provenance": [],
      "authorship_tag": "ABX9TyMCFu8ce2c0Ja1YkkWgBUzp",
      "include_colab_link": true
    },
    "kernelspec": {
      "name": "python3",
      "display_name": "Python 3"
    },
    "language_info": {
      "name": "python"
    }
  },
  "cells": [
    {
      "cell_type": "markdown",
      "metadata": {
        "id": "view-in-github",
        "colab_type": "text"
      },
      "source": [
        "<a href=\"https://colab.research.google.com/github/LokeshGouri/GenAI_Course/blob/main/Session_Python.ipynb\" target=\"_parent\"><img src=\"https://colab.research.google.com/assets/colab-badge.svg\" alt=\"Open In Colab\"/></a>"
      ]
    },
    {
      "cell_type": "code",
      "source": [
        "%%time"
      ],
      "metadata": {
        "colab": {
          "base_uri": "https://localhost:8080/"
        },
        "id": "yobkKyW9MRDn",
        "outputId": "8f967812-49ad-4d04-f6b4-07593425753a"
      },
      "execution_count": null,
      "outputs": [
        {
          "output_type": "stream",
          "name": "stderr",
          "text": [
            "UsageError: %%time is a cell magic, but the cell body is empty. Did you mean the line magic %time (single %)?\n"
          ]
        }
      ]
    },
    {
      "cell_type": "code",
      "source": [
        "import traceback\n",
        "class Calculator:\n",
        "\n",
        "  def add(self, a, b):\n",
        "    print(a+b)\n",
        "  def subtract(self, a, b):\n",
        "    print(a-b)\n",
        "  def multiply(self, a, b):\n",
        "    print(a*b)\n",
        "  def divide(self, a, b):\n",
        "    print(a/b)\n",
        "\n",
        "cal = Calculator()\n",
        "\n",
        "cal.add(2,3)\n",
        "cal.subtract(2,3)\n",
        "cal.multiply(2,3)\n",
        "try:\n",
        "  cal.divide(0,0)\n",
        "except Exception as e:\n",
        "   traceback.print_exc()"
      ],
      "metadata": {
        "colab": {
          "base_uri": "https://localhost:8080/"
        },
        "id": "RWwv7JnCHo99",
        "outputId": "11ad3a85-a4f3-49b9-f745-50543f1c3ce3"
      },
      "execution_count": 1,
      "outputs": [
        {
          "output_type": "stream",
          "name": "stdout",
          "text": [
            "5\n",
            "-1\n",
            "6\n"
          ]
        },
        {
          "output_type": "stream",
          "name": "stderr",
          "text": [
            "Traceback (most recent call last):\n",
            "  File \"<ipython-input-1-5add89f3af9d>\", line 19, in <cell line: 18>\n",
            "    cal.divide(0,0)\n",
            "  File \"<ipython-input-1-5add89f3af9d>\", line 11, in divide\n",
            "    print(a/b)\n",
            "ZeroDivisionError: division by zero\n"
          ]
        }
      ]
    }
  ]
}