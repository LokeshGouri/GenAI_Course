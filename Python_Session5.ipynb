{
  "nbformat": 4,
  "nbformat_minor": 0,
  "metadata": {
    "colab": {
      "provenance": [],
      "authorship_tag": "ABX9TyNOkospnm803mHeWq+z3oKd",
      "include_colab_link": true
    },
    "kernelspec": {
      "name": "python3",
      "display_name": "Python 3"
    },
    "language_info": {
      "name": "python"
    }
  },
  "cells": [
    {
      "cell_type": "markdown",
      "metadata": {
        "id": "view-in-github",
        "colab_type": "text"
      },
      "source": [
        "<a href=\"https://colab.research.google.com/github/LokeshGouri/GenAI_Course/blob/main/Python_Session5.ipynb\" target=\"_parent\"><img src=\"https://colab.research.google.com/assets/colab-badge.svg\" alt=\"Open In Colab\"/></a>"
      ]
    },
    {
      "cell_type": "code",
      "execution_count": 1,
      "metadata": {
        "id": "d-4iD6yRxthG"
      },
      "outputs": [],
      "source": [
        "import re;"
      ]
    },
    {
      "cell_type": "code",
      "source": [
        "txt = \"I am travelling to spain but it could rain in spain\"\n",
        "txt_lower = txt.lower()\n",
        "tokens = re.split(\"\\s\", txt_lower)\n",
        "print(list(set(tokens)))"
      ],
      "metadata": {
        "colab": {
          "base_uri": "https://localhost:8080/"
        },
        "id": "UPQgIZ5c08tO",
        "outputId": "5f90d7e9-41ac-472d-ac95-4c874581c49b"
      },
      "execution_count": 7,
      "outputs": [
        {
          "output_type": "stream",
          "name": "stdout",
          "text": [
            "['could', 'am', 'in', 'but', 'spain', 'to', 'i', 'it', 'rain', 'travelling']\n"
          ]
        }
      ]
    },
    {
      "cell_type": "code",
      "source": [
        "txt_new = re.sub(\"spain\", \"Italy\", txt)\n",
        "print(txt_new)"
      ],
      "metadata": {
        "colab": {
          "base_uri": "https://localhost:8080/"
        },
        "id": "Pv3QmS3J2NDN",
        "outputId": "15c9e6df-7be7-442c-9e19-e786294502af"
      },
      "execution_count": 9,
      "outputs": [
        {
          "output_type": "stream",
          "name": "stdout",
          "text": [
            "I am travelling to Italy but it could rain in Italy\n"
          ]
        }
      ]
    },
    {
      "cell_type": "code",
      "source": [
        "## Extract Email\n",
        "text = \"Contact me at john.doe@example.com or jane@example.org for more information.\"\n",
        "\n",
        "def extractEmail(txt):\n",
        "  print(re.findall(r\"\\S+@\\S+\\.\\S{2,}\", txt))\n",
        "\n",
        "extractEmail(text)"
      ],
      "metadata": {
        "colab": {
          "base_uri": "https://localhost:8080/"
        },
        "id": "yfRCFXeu2q52",
        "outputId": "eef55458-0f9a-4b97-e2aa-b38e7c240142"
      },
      "execution_count": 23,
      "outputs": [
        {
          "output_type": "stream",
          "name": "stdout",
          "text": [
            "['jane@example.org']\n"
          ]
        }
      ]
    },
    {
      "cell_type": "code",
      "source": [
        "## Extract Python code\n",
        "\n",
        "data = \"\"\"here is the python code ### python import pandas as pd df = pd.read_csv('file.csv') df.shape() print(\"Hello, world!\") # End of Python code. ###\"\"\"\n",
        "\n",
        "def extractPythonCode(data):\n",
        "  datalines = re.split(\"###\", data, 1)\n",
        "  print(datalines[1])\n",
        "\n",
        "extractPythonCode(data)"
      ],
      "metadata": {
        "colab": {
          "base_uri": "https://localhost:8080/"
        },
        "id": "liOUB4WQ4tL4",
        "outputId": "cef67e14-14fb-45fd-a3a7-55329e9bb6ac"
      },
      "execution_count": 20,
      "outputs": [
        {
          "output_type": "stream",
          "name": "stdout",
          "text": [
            " python import pandas as pd df = pd.read_csv('file.csv') df.shape() print(\"Hello, world!\") # End of Python code. ###\n"
          ]
        }
      ]
    }
  ]
}