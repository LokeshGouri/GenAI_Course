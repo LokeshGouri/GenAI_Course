{
  "nbformat": 4,
  "nbformat_minor": 0,
  "metadata": {
    "colab": {
      "provenance": [],
      "authorship_tag": "ABX9TyMFYTeY0RTPGNL+j+ousice",
      "include_colab_link": true
    },
    "kernelspec": {
      "name": "python3",
      "display_name": "Python 3"
    },
    "language_info": {
      "name": "python"
    }
  },
  "cells": [
    {
      "cell_type": "markdown",
      "metadata": {
        "id": "view-in-github",
        "colab_type": "text"
      },
      "source": [
        "<a href=\"https://colab.research.google.com/github/LokeshGouri/GenAI_Course/blob/main/Python_Session5.ipynb\" target=\"_parent\"><img src=\"https://colab.research.google.com/assets/colab-badge.svg\" alt=\"Open In Colab\"/></a>"
      ]
    },
    {
      "cell_type": "code",
      "execution_count": 1,
      "metadata": {
        "id": "d-4iD6yRxthG"
      },
      "outputs": [],
      "source": [
        "import re;"
      ]
    },
    {
      "cell_type": "code",
      "source": [
        "txt = \"I am travelling to spain but it could rain in spain\"\n",
        "txt_lower = txt.lower()\n",
        "tokens = re.split(\"\\s\", txt_lower)\n",
        "print(list(set(tokens)))"
      ],
      "metadata": {
        "colab": {
          "base_uri": "https://localhost:8080/"
        },
        "id": "UPQgIZ5c08tO",
        "outputId": "5f90d7e9-41ac-472d-ac95-4c874581c49b"
      },
      "execution_count": 7,
      "outputs": [
        {
          "output_type": "stream",
          "name": "stdout",
          "text": [
            "['could', 'am', 'in', 'but', 'spain', 'to', 'i', 'it', 'rain', 'travelling']\n"
          ]
        }
      ]
    },
    {
      "cell_type": "code",
      "source": [
        "txt_new = re.sub(\"spain\", \"Italy\", txt)\n",
        "print(txt_new)"
      ],
      "metadata": {
        "colab": {
          "base_uri": "https://localhost:8080/"
        },
        "id": "Pv3QmS3J2NDN",
        "outputId": "15c9e6df-7be7-442c-9e19-e786294502af"
      },
      "execution_count": 9,
      "outputs": [
        {
          "output_type": "stream",
          "name": "stdout",
          "text": [
            "I am travelling to Italy but it could rain in Italy\n"
          ]
        }
      ]
    },
    {
      "cell_type": "code",
      "source": [
        "## Extract Email\n",
        "text = \"Contact me at john.doe@example.com or jane@example.org for more information.\"\n",
        "\n",
        "def extractEmail(txt):\n",
        "  print(re.findall(r\"\\S+@\\S+\\.\\S+\", txt))\n",
        "\n",
        "extractEmail(text)"
      ],
      "metadata": {
        "colab": {
          "base_uri": "https://localhost:8080/"
        },
        "id": "yfRCFXeu2q52",
        "outputId": "5f31d246-25e3-4b65-e018-095f26aa7bc3"
      },
      "execution_count": 11,
      "outputs": [
        {
          "output_type": "stream",
          "name": "stdout",
          "text": [
            "['john.doe@example.com', 'jane@example.org']\n"
          ]
        }
      ]
    },
    {
      "cell_type": "code",
      "source": [],
      "metadata": {
        "id": "liOUB4WQ4tL4"
      },
      "execution_count": null,
      "outputs": []
    }
  ]
}